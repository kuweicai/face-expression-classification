{
 "cells": [
  {
   "cell_type": "code",
   "execution_count": 49,
   "metadata": {},
   "outputs": [],
   "source": [
    "import os\n",
    "import cv2\n",
    "import numpy as np"
   ]
  },
  {
   "cell_type": "code",
   "execution_count": 50,
   "metadata": {},
   "outputs": [],
   "source": [
    "PATH = '/home/alvin/caffe/caffe-argument/examples/project/classify/dataset/all_shuffle_val.txt'\n",
    "ROOT = '/home/alvin/caffe/caffe-argument/examples/project/classify/dataset'\n",
    "# PATH0 = '/home/alvin/caffe/caffe-ssd/examples/project/classify/dataset/0none'\n",
    "# PATH1 = '/home/alvin/caffe/caffe-ssd/examples/project/classify/dataset/1pouting'\n",
    "# PATH2 = '/home/alvin/caffe/caffe-ssd/examples/project/classify/dataset/2smile'\n",
    "# PATH3 = '/home/alvin/caffe/caffe-ssd/examples/project/classify/dataset/3openmouth'"
   ]
  },
  {
   "cell_type": "code",
   "execution_count": 51,
   "metadata": {},
   "outputs": [],
   "source": [
    "# calculate mean by folder\n",
    "def ComputebyFolder(path):\n",
    "    file_names = os.listdir(path)\n",
    "    per_image_Rmean = []\n",
    "    per_image_Gmean = []\n",
    "    per_image_Bmean = []\n",
    "    for file_name in file_names:\n",
    "        img = cv2.imread(os.path.join(path, file_name), 1)\n",
    "        per_image_Bmean.append(np.mean(img[:,:,0]))\n",
    "        per_image_Gmean.append(np.mean(img[:,:,1]))\n",
    "        per_image_Rmean.append(np.mean(img[:,:,2]))\n",
    "    R_mean = np.mean(per_image_Rmean)\n",
    "    G_mean = np.mean(per_image_Gmean)\n",
    "    B_mean = np.mean(per_image_Bmean)\n",
    "    return R_mean, G_mean, B_mean"
   ]
  },
  {
   "cell_type": "code",
   "execution_count": 52,
   "metadata": {},
   "outputs": [],
   "source": [
    "# calculate mean by list\n",
    "def ComputebyList(list_path, root_path):\n",
    "    lines = []\n",
    "    file_names = []\n",
    "    f = open(list_path)\n",
    "    lines += f.readlines()\n",
    "    f.close()\n",
    "    \n",
    "    for line in lines:\n",
    "        name, _ = line.split(' ', 1)\n",
    "        file_names.append(name)\n",
    "        \n",
    "    per_image_Rmean = []\n",
    "    per_image_Gmean = []\n",
    "    per_image_Bmean = []\n",
    "    for file_name in file_names:\n",
    "        path = root_path + '/' + file_name\n",
    "        img = cv2.imread(path, 1)\n",
    "        per_image_Bmean.append(np.mean(img[:,:,0]))\n",
    "        per_image_Gmean.append(np.mean(img[:,:,1]))\n",
    "        per_image_Rmean.append(np.mean(img[:,:,2]))\n",
    "    R_mean = np.mean(per_image_Rmean)\n",
    "    G_mean = np.mean(per_image_Gmean)\n",
    "    B_mean = np.mean(per_image_Bmean)\n",
    "    return R_mean, G_mean, B_mean"
   ]
  },
  {
   "cell_type": "code",
   "execution_count": 53,
   "metadata": {},
   "outputs": [
    {
     "name": "stdout",
     "output_type": "stream",
     "text": [
      "174.524710435 138.67177028 126.905111309\n"
     ]
    }
   ],
   "source": [
    "R, G, B = ComputebyList(PATH, ROOT)\n",
    "print(R0, G0 ,B0)\n",
    "R0, G0, B0 = ComputebyFolder(PATH0)\n",
    "print(R0, G0 ,B0)\n",
    "R1, G1, B1 = ComputebyFolder(PATH1)\n",
    "print(R1, G1, B1)\n",
    "R2, G2, B2 = ComputebyFolder(PATH2)\n",
    "print(R2, G2 ,B2)\n",
    "R3, G3, B3 = ComputebyFolder(PATH3)\n",
    "print(R3, G3, B3)\n",
    "R, G, B = (R0 + R1 + R2 + R3)/4, (G0 + G1 + G2 + G3)/4, (B0 + B1 + B2 + B3)/4 \n",
    "print(R, G ,B)"
   ]
  }
 ],
 "metadata": {
  "kernelspec": {
   "display_name": "Python 3",
   "language": "python",
   "name": "python3"
  },
  "language_info": {
   "codemirror_mode": {
    "name": "ipython",
    "version": 3
   },
   "file_extension": ".py",
   "mimetype": "text/x-python",
   "name": "python",
   "nbconvert_exporter": "python",
   "pygments_lexer": "ipython3",
   "version": "3.5.2"
  }
 },
 "nbformat": 4,
 "nbformat_minor": 2
}
