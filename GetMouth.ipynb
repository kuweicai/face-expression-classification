{
 "cells": [
  {
   "cell_type": "code",
   "execution_count": 51,
   "metadata": {},
   "outputs": [],
   "source": [
    "import cv2\n",
    "import dlib\n",
    "import sys\n",
    "import numpy as np\n",
    "%matplotlib inline"
   ]
  },
  {
   "cell_type": "code",
   "execution_count": 52,
   "metadata": {},
   "outputs": [],
   "source": [
    "PREDICTOR_PATH = \"/home/alvin/caffe/project/classify/shape_predictor_68_face_landmarks.dat\"\n",
    "CASCADE_PATH = \"/usr/local/share/OpenCV/haarcascades/haarcascade_frontalface_alt.xml\"\n",
    "IMG_PATH = \"/home/alvin/caffe/project/classify/test.png\"\n",
    "\n",
    "predictor = dlib.shape_predictor(PREDICTOR_PATH)\n",
    "cascade = cv2.CascadeClassifier(CASCADE_PATH)"
   ]
  },
  {
   "cell_type": "code",
   "execution_count": 53,
   "metadata": {},
   "outputs": [],
   "source": [
    "# detect face by cascade\n",
    "# get landmarks by dlib\n",
    "def get_landmarks(im):\n",
    "    rects = cascade.detectMultiScale(im, 1.3, 5)\n",
    "    x,y,w,h = rects[0]\n",
    "    rect = dlib.rectangle(x, y, x+w, y+h)\n",
    "    return np.matrix([[p.x, p.y] for p in predictor(im, rect).parts()])"
   ]
  },
  {
   "cell_type": "code",
   "execution_count": 54,
   "metadata": {},
   "outputs": [],
   "source": [
    "# mark points ion image\n",
    "def anotate_landmarks(im, landmarks):\n",
    "    im = im.copy()\n",
    "    for idx, point in enumerate(landmarks):\n",
    "        # x = point[0, 0]\n",
    "        # y = point[0, 1]\n",
    "        pos = (point[0, 0], point[0, 1])\n",
    "        cv2.putText(im, str(idx), pos, fontFace = \n",
    "                    cv2.FONT_HERSHEY_SCRIPT_SIMPLEX, fontScale = 0.4, color = (0, 255, 255))\n",
    "        cv2.circle(im, pos, 5, color = (0,255, 255))\n",
    "    return im"
   ]
  },
  {
   "cell_type": "code",
   "execution_count": 55,
   "metadata": {},
   "outputs": [],
   "source": [
    "#im = cv2.imread(sys.argv[1],1)\n",
    "im = cv2.imread(IMG_PATH,1)\n",
    "cv2.namedWindow(\"Result\", 0)\n",
    "cv2.imshow(\"Result\", im)\n",
    "cv2.imshow(\"Result\", anotate_landmarks(im, get_landmarks(im)))"
   ]
  },
  {
   "cell_type": "code",
   "execution_count": 56,
   "metadata": {},
   "outputs": [
    {
     "name": "stdout",
     "output_type": "stream",
     "text": [
      "landmarks：  (68, 2)\n"
     ]
    }
   ],
   "source": [
    "## get 68 key points\n",
    "landmarks = get_landmarks(im)\n",
    "print(\"landmarks： \", landmarks.shape)\n",
    "x_min = 10000\n",
    "x_max = 0\n",
    "y_min = 10000\n",
    "y_max = 0"
   ]
  },
  {
   "cell_type": "code",
   "execution_count": 57,
   "metadata": {},
   "outputs": [],
   "source": [
    "for i in range(48, 67):\n",
    "    x = landmarks[i, 0]\n",
    "    y = landmarks[i, 1]\n",
    "    if x <x_min:\n",
    "        x_min = x\n",
    "    if x > x_max:\n",
    "        x_max = x\n",
    "    if y < y_min:\n",
    "        y_min = y\n",
    "    if y > y_max:\n",
    "        y_max = y\n",
    "\n",
    "roi_width = x_max - x_min\n",
    "roi_height = y_max - y_min\n",
    "\n",
    "roi = im[y_min : y_max, x_min : x_max, 0 : 3]\n",
    "\n",
    "if roi_width > roi_height:\n",
    "    dst_len = 1.5 * roi_width\n",
    "else:\n",
    "    dst_len = 1.5 * roi_height\n",
    "\n",
    "diff_xlen = dst_len - roi_width\n",
    "diff_ylen = dst_len - roi_height\n",
    "\n",
    "img_rows, img_cols,img_c = im.shape\n",
    "x_dst = x_min\n",
    "y_dst = y_min\n",
    "\n",
    "if x_min - diff_xlen/2 >=0 and x_min + dst_len < img_cols:\n",
    "    x_dst = x_min - diff_xlen/2\n",
    "elif x_min - diff_xlen/2 < 0:\n",
    "    x_dst = 0\n",
    "else:\n",
    "    x_dst = img_cols - dst_len #there is convension that img_cols > dst_len\n",
    "\n",
    "if y_min - diff_ylen/2 >=0 and y_min + dst_len < img_rows:\n",
    "    y_dst = y_min - diff_ylen/2\n",
    "elif y_min - diff_ylen/2 < 0:\n",
    "    y_dst = 0\n",
    "else:\n",
    "    y_dst = img_rows - dst_len #there is convension that img_rows > dst_len\n",
    "    \n",
    "y1 = int(y_dst)\n",
    "y2 = int(y_dst + dst_len) \n",
    "x1 = int(x_dst)\n",
    "x2 = int(x_dst + dst_len)\n",
    "\n",
    "cv2.rectangle(im, (x_min, y_min), (x_max, y_max), (0,255,255), 4)\n",
    "cv2.rectangle(im, (x1, y1), (x2, y2), (0,255,0), 4)\n",
    "cv2.imshow(\"mark\", im);\n",
    "roi = im[y1 : y2, x1 : x2, 0 : 3]\n",
    "cv2.imwrite('makr.png', im)\n",
    "cv2.imwrite(\"roi.png\", roi)\n",
    "cv2.imshow(\"roi\", roi)\n",
    "cv2.waitKey(0)\n",
    "cv2.destroyAllWindows()"
   ]
  },
  {
   "cell_type": "code",
   "execution_count": null,
   "metadata": {},
   "outputs": [],
   "source": []
  }
 ],
 "metadata": {
  "kernelspec": {
   "display_name": "Python 3",
   "language": "python",
   "name": "python3"
  },
  "language_info": {
   "codemirror_mode": {
    "name": "ipython",
    "version": 3
   },
   "file_extension": ".py",
   "mimetype": "text/x-python",
   "name": "python",
   "nbconvert_exporter": "python",
   "pygments_lexer": "ipython3",
   "version": "3.5.2"
  }
 },
 "nbformat": 4,
 "nbformat_minor": 2
}
