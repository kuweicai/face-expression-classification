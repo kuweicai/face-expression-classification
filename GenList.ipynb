{
 "cells": [
  {
   "cell_type": "code",
   "execution_count": 56,
   "metadata": {},
   "outputs": [],
   "source": [
    "import random\n",
    "import os\n",
    "%matplotlib inline"
   ]
  },
  {
   "cell_type": "code",
   "execution_count": 57,
   "metadata": {},
   "outputs": [],
   "source": [
    "PATH0 = \"./dataset/0none.txt\"\n",
    "PATH1 = \"./dataset/1pouting.txt\"\n",
    "PATH2 = \"./dataset/2smile.txt\"\n",
    "PATH3 = \"./dataset/3open.txt\"\n",
    "train = \"./dataset/all_shuffle_train.txt\"\n",
    "test = \"./dataset/all_shuffle_val.txt\""
   ]
  },
  {
   "cell_type": "code",
   "execution_count": 58,
   "metadata": {},
   "outputs": [],
   "source": [
    "paths = [PATH0, PATH1, PATH2, PATH3]\n",
    "lines = []\n",
    "for path in paths:\n",
    "    f = open(path)\n",
    "    lines += f.readlines()\n",
    "    f.close()\n",
    "\n",
    "# shuffe the lines\n",
    "random.shuffle(lines)\n",
    "\n",
    "test_list = lines[:1000]\n",
    "train_list = lines[1000:]"
   ]
  },
  {
   "cell_type": "code",
   "execution_count": 61,
   "metadata": {},
   "outputs": [],
   "source": [
    "if os.path.exists(train):\n",
    "    os.remove(train)\n",
    "\n",
    "if os.path.exists(test):\n",
    "    os.remove(test)\n",
    "\n",
    "train_f = open(train, 'a')\n",
    "test_f = open(test, 'a')\n",
    "\n",
    "for line in train_list:\n",
    "    train_f.write(line)\n",
    "train_f.close()\n",
    "\n",
    "for line in test_list:\n",
    "    test_f.write(line)\n",
    "test_f.close()"
   ]
  },
  {
   "cell_type": "code",
   "execution_count": null,
   "metadata": {},
   "outputs": [],
   "source": []
  }
 ],
 "metadata": {
  "kernelspec": {
   "display_name": "Python 3",
   "language": "python",
   "name": "python3"
  },
  "language_info": {
   "codemirror_mode": {
    "name": "ipython",
    "version": 3
   },
   "file_extension": ".py",
   "mimetype": "text/x-python",
   "name": "python",
   "nbconvert_exporter": "python",
   "pygments_lexer": "ipython3",
   "version": "3.5.2"
  }
 },
 "nbformat": 4,
 "nbformat_minor": 2
}
