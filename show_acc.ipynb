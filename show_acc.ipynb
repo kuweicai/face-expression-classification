{
 "cells": [
  {
   "cell_type": "code",
   "execution_count": 9,
   "metadata": {},
   "outputs": [],
   "source": [
    "import numpy as np\n",
    "import matplotlib.pyplot as plt \n",
    "%matplotlib inline"
   ]
  },
  {
   "cell_type": "code",
   "execution_count": 10,
   "metadata": {},
   "outputs": [
    {
     "name": "stdout",
     "output_type": "stream",
     "text": [
      "20\n"
     ]
    }
   ],
   "source": [
    "######----train------#####\n",
    "iter_train_interval = 100\n",
    "statistic_train_interval = 1\n",
    "start_plot_idx = 0\n",
    "\n",
    "train_acc_file = open('trainacc.refine', 'r')\n",
    "train_acc_total = train_acc_file.readlines()\n",
    "train_acc_num = len(train_acc_total)\n",
    "# train_acc_res use to store acc value \n",
    "train_acc_res = np.zeros(train_acc_num)\n",
    "train_acc_idx = np.arange(train_acc_num) * iter_train_interval\n",
    "print(train_acc_num)"
   ]
  },
  {
   "cell_type": "code",
   "execution_count": 11,
   "metadata": {},
   "outputs": [
    {
     "name": "stdout",
     "output_type": "stream",
     "text": [
      "5\n"
     ]
    }
   ],
   "source": [
    "######-----test------#####\n",
    "iter_test_interval = 500\n",
    "statistic_test_interval = 1\n",
    "\n",
    "test_acc_file = open('testacc.refine', 'r')\n",
    "test_acc_total = test_acc_file.readlines()\n",
    "test_acc_num = len(test_acc_total)\n",
    "test_acc_res = np.zeros(test_acc_num)\n",
    "test_acc_idx = np.arange(test_acc_num) * iter_test_interval\n",
    "print(test_acc_num)"
   ]
  },
  {
   "cell_type": "code",
   "execution_count": 12,
   "metadata": {},
   "outputs": [],
   "source": [
    "######----train------#####\n",
    "for idx in range(train_acc_num) :\n",
    "    train_acc_str = train_acc_total[idx]\n",
    "    str_start_idx = train_acc_str.find('=') + 1\n",
    "    str_end_idx = len(train_acc_str) - 1\n",
    "    train_acc_res[idx] = float(train_acc_str[str_start_idx:str_end_idx])"
   ]
  },
  {
   "cell_type": "code",
   "execution_count": 13,
   "metadata": {},
   "outputs": [],
   "source": [
    "######----test------#####\n",
    "for idx in range(test_acc_num) :\n",
    "    test_acc_str = test_acc_total[idx]\n",
    "    str_start_idx_test = test_acc_str.find('=') + 1\n",
    "    str_end_idx = len(test_acc_str) - 1\n",
    "    test_acc_res[idx] = float(test_acc_str[str_start_idx:str_end_idx])"
   ]
  },
  {
   "cell_type": "code",
   "execution_count": 14,
   "metadata": {},
   "outputs": [
    {
     "name": "stdout",
     "output_type": "stream",
     "text": [
      "20\n"
     ]
    }
   ],
   "source": [
    "######----train------#####\n",
    "statistic_len = int((train_acc_num + statistic_train_interval - 1)/statistic_train_interval)\n",
    "statistic_idx = np.arange(statistic_len) * iter_train_interval * statistic_train_interval\n",
    "statistic_res_mean = np.zeros(statistic_len)\n",
    "statistic_res_var = np.zeros(statistic_len)\n",
    "\n",
    "print(statistic_len)"
   ]
  },
  {
   "cell_type": "code",
   "execution_count": 22,
   "metadata": {},
   "outputs": [
    {
     "name": "stdout",
     "output_type": "stream",
     "text": [
      "5\n"
     ]
    }
   ],
   "source": [
    "######----test------#####\n",
    "statistic_len_test = int((test_acc_num + statistic_test_interval - 1)/statistic_test_interval)\n",
    "statistic_idx_test = np.arange(statistic_len_test) * iter_test_interval * statistic_test_interval\n",
    "statistic_res_mean_test = np.zeros(statistic_len_test)\n",
    "statistic_res_var_test = np.zeros(statistic_len_test)\n",
    "\n",
    "print(statistic_len_test)"
   ]
  },
  {
   "cell_type": "code",
   "execution_count": 23,
   "metadata": {},
   "outputs": [],
   "source": [
    "######----train------#####\n",
    "for idx in range(statistic_len) :\n",
    "    train_acc_start_idx = idx*statistic_train_interval\n",
    "    train_acc_end_idx = min(train_acc_start_idx + statistic_train_interval, train_acc_num)\n",
    "    train_acc_part = train_acc_res[train_acc_start_idx : train_acc_end_idx]\n",
    "    statistic_res_mean[idx] = np.mean(train_acc_part)\n",
    "    statistic_res_var[idx] = np.var(train_acc_part)"
   ]
  },
  {
   "cell_type": "code",
   "execution_count": 24,
   "metadata": {},
   "outputs": [],
   "source": [
    "######----test------#####\n",
    "for idx in range(statistic_len_test) :\n",
    "    test_acc_start_idx = idx*statistic_train_interval\n",
    "    test_acc_end_idx = min(train_acc_start_idx + statistic_train_interval, train_acc_num)\n",
    "    test_acc_part = test_acc_res[test_acc_start_idx : test_acc_end_idx]\n",
    "    statistic_res_mean_test[idx] = np.mean(test_acc_part)\n",
    "    statistic_res_var_test[idx] = np.var(test_acc_part)"
   ]
  },
  {
   "cell_type": "code",
   "execution_count": 28,
   "metadata": {},
   "outputs": [
    {
     "data": {
      "image/png": "[encoded data removed]",
      "text/plain": [
       "<Figure size 432x288 with 1 Axes>"
      ]
     },
     "metadata": {
      "needs_background": "light"
     },
     "output_type": "display_data"
    }
   ],
   "source": [
    "plt.plot(statistic_idx[start_plot_idx:], statistic_res_mean[start_plot_idx:],'k-',label=\"train_acc\")\n",
    "plt.plot(statistic_idx_test[start_plot_idx:], statistic_res_mean_test[start_plot_idx:],'r-',label=\"test_acc\")\n",
    "plt.title('train&test_acc')\n",
    "plt.savefig('loss.png')\n",
    "plt.legend()\n",
    "plt.show()"
   ]
  },
  {
   "cell_type": "code",
   "execution_count": null,
   "metadata": {},
   "outputs": [],
   "source": []
  }
 ],
 "metadata": {
  "kernelspec": {
   "display_name": "Python 3",
   "language": "python",
   "name": "python3"
  },
  "language_info": {
   "codemirror_mode": {
    "name": "ipython",
    "version": 3
   },
   "file_extension": ".py",
   "mimetype": "text/x-python",
   "name": "python",
   "nbconvert_exporter": "python",
   "pygments_lexer": "ipython3",
   "version": "3.5.2"
  }
 },
 "nbformat": 4,
 "nbformat_minor": 2
}
